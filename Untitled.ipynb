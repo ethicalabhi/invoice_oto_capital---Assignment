{
 "cells": [
  {
   "cell_type": "code",
   "execution_count": 1,
   "id": "f15085a0",
   "metadata": {},
   "outputs": [],
   "source": [
    "data_dict = {\n",
    "    \"customer\": \"ruban\",\n",
    "    \"transactions\": [\n",
    "        {\n",
    "            \"product\": \"gold\",\n",
    "            \"quantity\": 1,\n",
    "            \"price\": 50\n",
    "        },\n",
    "         {\n",
    "            \"product\": \"silver\",\n",
    "            \"quantity\": 2,\n",
    "            \"price\": 100\n",
    "        }\n",
    "    ]\n",
    "}"
   ]
  },
  {
   "cell_type": "code",
   "execution_count": null,
   "id": "0255e33e",
   "metadata": {},
   "outputs": [],
   "source": []
  }
 ],
 "metadata": {
  "kernelspec": {
   "display_name": "Django Shell-Plus",
   "language": "python",
   "name": "django_extensions"
  },
  "language_info": {
   "codemirror_mode": {
    "name": "ipython",
    "version": 3
   },
   "file_extension": ".py",
   "mimetype": "text/x-python",
   "name": "python",
   "nbconvert_exporter": "python",
   "pygments_lexer": "ipython3",
   "version": "3.8.6"
  }
 },
 "nbformat": 4,
 "nbformat_minor": 5
}
